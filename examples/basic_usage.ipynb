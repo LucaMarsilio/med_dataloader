{
 "metadata": {
  "language_info": {
   "codemirror_mode": {
    "name": "ipython",
    "version": 3
   },
   "file_extension": ".py",
   "mimetype": "text/x-python",
   "name": "python",
   "nbconvert_exporter": "python",
   "pygments_lexer": "ipython3",
   "version": "3.7.9"
  },
  "orig_nbformat": 2,
  "kernelspec": {
   "name": "python379jvsc74a57bd06ca9d643f7bb6934fb11056c6bfcbba6fffd6f45119b8d99fc29db1b9c71c5b0",
   "display_name": "Python 3.7.9 64-bit ('venv')"
  },
  "metadata": {
   "interpreter": {
    "hash": "6ca9d643f7bb6934fb11056c6bfcbba6fffd6f45119b8d99fc29db1b9c71c5b0"
   }
  }
 },
 "nbformat": 4,
 "nbformat_minor": 2,
 "cells": [
  {
   "cell_type": "code",
   "execution_count": 1,
   "metadata": {},
   "outputs": [],
   "source": [
    "import med_dataloader as med_dl"
   ]
  },
  {
   "cell_type": "code",
   "execution_count": 27,
   "metadata": {},
   "outputs": [],
   "source": [
    "dl = med_dl.DataLoader(imgA_label=\"CBCT\",\n",
    "                       imgB_label=\"CT\",\n",
    "                       data_dir=\"Test_Dataset\")\n",
    "\n",
    "train_ds, valid_ds, test_ds = med_dl.generate_dataset(data_loader=dl,\n",
    "                                                      input_size=256,\n",
    "                                                      percentages=[0.8, 0.1, 0.1],\n",
    "                                                      batch_size=3,\n",
    "                                                      norm_bounds=[-1024.0, 3200.0],\n",
    "                                                      random_crop_size=128,\n",
    "                                                      random_rotate=True,\n",
    "                                                      random_flip=True\n",
    "                                                      )"
   ]
  }
 ]
}